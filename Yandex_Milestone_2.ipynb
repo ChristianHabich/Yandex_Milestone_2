{
 "cells": [
  {
   "cell_type": "markdown",
   "metadata": {},
   "source": [
    "## Yandex boot camp - Milestone 2"
   ]
  },
  {
   "cell_type": "markdown",
   "metadata": {},
   "source": [
    "The data analysed consists of log files from a startup app. The sales funnel will be investigated to find out where users get stuck and what percentage of them reaches the purchase stage. In order to test the effect of a visual change, users have been split up into two control and one experimental group. Tests will be conducted to find out whether the latter is performing differently than the former two and if yes, in what way."
   ]
  },
  {
   "cell_type": "code",
   "execution_count": 1,
   "metadata": {},
   "outputs": [],
   "source": [
    "# import libraries\n",
    "import pandas as pd\n",
    "import numpy as np\n",
    "import matplotlib.pyplot as plt\n",
    "import datetime\n",
    "import seaborn as sns\n",
    "from scipy.stats import norm\n",
    "from statsmodels.stats.proportion import proportions_ztest\n",
    "from scipy.stats import chisquare\n",
    "\n",
    "%matplotlib inline\n",
    "\n",
    "# import file\n",
    "log = pd.read_csv('logs_exp_us.csv', sep='\\t')"
   ]
  },
  {
   "cell_type": "markdown",
   "metadata": {},
   "source": [
    "### 1. Prepare and study data for analysis"
   ]
  },
  {
   "cell_type": "code",
   "execution_count": 2,
   "metadata": {},
   "outputs": [
    {
     "data": {
      "text/html": [
       "<div>\n",
       "<style scoped>\n",
       "    .dataframe tbody tr th:only-of-type {\n",
       "        vertical-align: middle;\n",
       "    }\n",
       "\n",
       "    .dataframe tbody tr th {\n",
       "        vertical-align: top;\n",
       "    }\n",
       "\n",
       "    .dataframe thead th {\n",
       "        text-align: right;\n",
       "    }\n",
       "</style>\n",
       "<table border=\"1\" class=\"dataframe\">\n",
       "  <thead>\n",
       "    <tr style=\"text-align: right;\">\n",
       "      <th></th>\n",
       "      <th>EventName</th>\n",
       "      <th>DeviceIDHash</th>\n",
       "      <th>EventTimestamp</th>\n",
       "      <th>ExpId</th>\n",
       "    </tr>\n",
       "  </thead>\n",
       "  <tbody>\n",
       "    <tr>\n",
       "      <th>0</th>\n",
       "      <td>MainScreenAppear</td>\n",
       "      <td>4575588528974610257</td>\n",
       "      <td>1564029816</td>\n",
       "      <td>246</td>\n",
       "    </tr>\n",
       "    <tr>\n",
       "      <th>1</th>\n",
       "      <td>MainScreenAppear</td>\n",
       "      <td>7416695313311560658</td>\n",
       "      <td>1564053102</td>\n",
       "      <td>246</td>\n",
       "    </tr>\n",
       "    <tr>\n",
       "      <th>2</th>\n",
       "      <td>PaymentScreenSuccessful</td>\n",
       "      <td>3518123091307005509</td>\n",
       "      <td>1564054127</td>\n",
       "      <td>248</td>\n",
       "    </tr>\n",
       "  </tbody>\n",
       "</table>\n",
       "</div>"
      ],
      "text/plain": [
       "                 EventName         DeviceIDHash  EventTimestamp  ExpId\n",
       "0         MainScreenAppear  4575588528974610257      1564029816    246\n",
       "1         MainScreenAppear  7416695313311560658      1564053102    246\n",
       "2  PaymentScreenSuccessful  3518123091307005509      1564054127    248"
      ]
     },
     "execution_count": 2,
     "metadata": {},
     "output_type": "execute_result"
    }
   ],
   "source": [
    "log.head(3)"
   ]
  },
  {
   "cell_type": "code",
   "execution_count": 3,
   "metadata": {},
   "outputs": [],
   "source": [
    "log.set_axis(['event','user_id','unix_time','exp_id'],axis=1,inplace=True)"
   ]
  },
  {
   "cell_type": "code",
   "execution_count": 4,
   "metadata": {},
   "outputs": [
    {
     "name": "stdout",
     "output_type": "stream",
     "text": [
      "<class 'pandas.core.frame.DataFrame'>\n",
      "RangeIndex: 244126 entries, 0 to 244125\n",
      "Data columns (total 4 columns):\n",
      " #   Column     Non-Null Count   Dtype \n",
      "---  ------     --------------   ----- \n",
      " 0   event      244126 non-null  object\n",
      " 1   user_id    244126 non-null  int64 \n",
      " 2   unix_time  244126 non-null  int64 \n",
      " 3   exp_id     244126 non-null  int64 \n",
      "dtypes: int64(3), object(1)\n",
      "memory usage: 7.5+ MB\n"
     ]
    }
   ],
   "source": [
    "log.info()"
   ]
  },
  {
   "cell_type": "code",
   "execution_count": 5,
   "metadata": {},
   "outputs": [
    {
     "data": {
      "text/plain": [
       "event        0\n",
       "user_id      0\n",
       "unix_time    0\n",
       "exp_id       0\n",
       "dtype: int64"
      ]
     },
     "execution_count": 5,
     "metadata": {},
     "output_type": "execute_result"
    }
   ],
   "source": [
    "log.isnull().sum()"
   ]
  },
  {
   "cell_type": "code",
   "execution_count": 6,
   "metadata": {},
   "outputs": [
    {
     "data": {
      "text/plain": [
       "413"
      ]
     },
     "execution_count": 6,
     "metadata": {},
     "output_type": "execute_result"
    }
   ],
   "source": [
    "log.duplicated().sum()"
   ]
  },
  {
   "cell_type": "code",
   "execution_count": 7,
   "metadata": {},
   "outputs": [],
   "source": [
    "log = log.drop_duplicates().reset_index(drop=True)"
   ]
  },
  {
   "cell_type": "markdown",
   "metadata": {},
   "source": [
    "Columns renamed. No missing values detected. Around 400 duplicates found and dropped (less than 0.2% of data set)"
   ]
  },
  {
   "cell_type": "code",
   "execution_count": 8,
   "metadata": {},
   "outputs": [],
   "source": [
    "log['timestamp'] = log.unix_time.apply(lambda x: datetime.datetime.fromtimestamp(x))"
   ]
  },
  {
   "cell_type": "code",
   "execution_count": 9,
   "metadata": {},
   "outputs": [],
   "source": [
    "log['date'] = pd.to_datetime(log['timestamp'].dt.date,format='%Y-%m-%d')"
   ]
  },
  {
   "cell_type": "code",
   "execution_count": 10,
   "metadata": {},
   "outputs": [],
   "source": [
    "log.drop('unix_time',axis=1,inplace=True)"
   ]
  },
  {
   "cell_type": "markdown",
   "metadata": {},
   "source": [
    "Unix time converted into human readable form. Two columns created, one with the exact timestamp, one with the date. "
   ]
  },
  {
   "cell_type": "code",
   "execution_count": 11,
   "metadata": {},
   "outputs": [
    {
     "data": {
      "text/plain": [
       "248    85582\n",
       "246    80181\n",
       "247    77950\n",
       "Name: exp_id, dtype: int64"
      ]
     },
     "execution_count": 11,
     "metadata": {},
     "output_type": "execute_result"
    }
   ],
   "source": [
    "log.exp_id.value_counts()"
   ]
  },
  {
   "cell_type": "code",
   "execution_count": 12,
   "metadata": {
    "scrolled": true
   },
   "outputs": [
    {
     "data": {
      "text/plain": [
       "MainScreenAppear           119101\n",
       "OffersScreenAppear          46808\n",
       "CartScreenAppear            42668\n",
       "PaymentScreenSuccessful     34118\n",
       "Tutorial                     1018\n",
       "Name: event, dtype: int64"
      ]
     },
     "execution_count": 12,
     "metadata": {},
     "output_type": "execute_result"
    }
   ],
   "source": [
    "log.event.value_counts()"
   ]
  },
  {
   "cell_type": "code",
   "execution_count": 13,
   "metadata": {},
   "outputs": [
    {
     "data": {
      "text/plain": [
       "7551"
      ]
     },
     "execution_count": 13,
     "metadata": {},
     "output_type": "execute_result"
    }
   ],
   "source": [
    "log.user_id.nunique()"
   ]
  },
  {
   "cell_type": "code",
   "execution_count": 14,
   "metadata": {},
   "outputs": [
    {
     "data": {
      "text/plain": [
       "event    32.28\n",
       "dtype: float64"
      ]
     },
     "execution_count": 14,
     "metadata": {},
     "output_type": "execute_result"
    }
   ],
   "source": [
    "round(log.groupby('user_id').agg({'event':'count'}).mean(),2)"
   ]
  },
  {
   "cell_type": "code",
   "execution_count": 15,
   "metadata": {},
   "outputs": [
    {
     "data": {
      "text/plain": [
       "event    2.67\n",
       "dtype: float64"
      ]
     },
     "execution_count": 15,
     "metadata": {},
     "output_type": "execute_result"
    }
   ],
   "source": [
    "round(log.groupby('user_id').agg({'event':'nunique'}).mean(),2)"
   ]
  },
  {
   "cell_type": "markdown",
   "metadata": {},
   "source": [
    "Data is split into three groups of comparable size. Five different events are recorded. Number of unique users lies at 7551 with each of them performing 32 (2.7 unique) events."
   ]
  },
  {
   "cell_type": "code",
   "execution_count": 16,
   "metadata": {},
   "outputs": [
    {
     "data": {
      "text/plain": [
       "Timestamp('2019-07-25 00:00:00')"
      ]
     },
     "execution_count": 16,
     "metadata": {},
     "output_type": "execute_result"
    }
   ],
   "source": [
    "log.date.min()"
   ]
  },
  {
   "cell_type": "code",
   "execution_count": 17,
   "metadata": {},
   "outputs": [
    {
     "data": {
      "text/plain": [
       "Timestamp('2019-08-07 00:00:00')"
      ]
     },
     "execution_count": 17,
     "metadata": {},
     "output_type": "execute_result"
    }
   ],
   "source": [
    "log.date.max()"
   ]
  },
  {
   "cell_type": "code",
   "execution_count": 18,
   "metadata": {},
   "outputs": [
    {
     "data": {
      "image/png": "[encoded data removed]",
      "text/plain": [
       "<Figure size 1440x360 with 1 Axes>"
      ]
     },
     "metadata": {
      "needs_background": "light"
     },
     "output_type": "display_data"
    }
   ],
   "source": [
    "log.date.hist(bins=15,figsize=(20,5))\n",
    "plt.title('distribution of log data over time');"
   ]
  },
  {
   "cell_type": "markdown",
   "metadata": {},
   "source": [
    "Data stretches from the 25th of July until the 7th of August. As the histogram shows, a neglectable part of the data points fall into the end of july period and will thus be excluded in the next step."
   ]
  },
  {
   "cell_type": "code",
   "execution_count": 19,
   "metadata": {},
   "outputs": [
    {
     "data": {
      "text/plain": [
       "243713"
      ]
     },
     "execution_count": 19,
     "metadata": {},
     "output_type": "execute_result"
    }
   ],
   "source": [
    "log.shape[0]"
   ]
  },
  {
   "cell_type": "code",
   "execution_count": 20,
   "metadata": {},
   "outputs": [
    {
     "data": {
      "text/plain": [
       "2413"
      ]
     },
     "execution_count": 20,
     "metadata": {},
     "output_type": "execute_result"
    }
   ],
   "source": [
    "log[log.date<=('2019-07-31')].count()[0]"
   ]
  },
  {
   "cell_type": "code",
   "execution_count": 21,
   "metadata": {},
   "outputs": [],
   "source": [
    "log.drop(log[log.date<=('2019-07-31')].index,inplace=True)"
   ]
  },
  {
   "cell_type": "code",
   "execution_count": 22,
   "metadata": {},
   "outputs": [
    {
     "data": {
      "text/plain": [
       "7538"
      ]
     },
     "execution_count": 22,
     "metadata": {},
     "output_type": "execute_result"
    }
   ],
   "source": [
    "log.user_id.nunique()"
   ]
  },
  {
   "cell_type": "markdown",
   "metadata": {},
   "source": [
    "Around 1% of data was dropped by exluding the july week and 13 out of initially 7551 unique users. The percentage is small enough to not affect the distribution among the events or experimental groups in any meaningful way."
   ]
  },
  {
   "cell_type": "code",
   "execution_count": 23,
   "metadata": {},
   "outputs": [
    {
     "data": {
      "image/png": "[encoded data removed]",
      "text/plain": [
       "<Figure size 1440x360 with 1 Axes>"
      ]
     },
     "metadata": {
      "needs_background": "light"
     },
     "output_type": "display_data"
    }
   ],
   "source": [
    "log.date.hist(bins=15,figsize=(20,5))\n",
    "plt.title('distribution of log data over time - only august');"
   ]
  },
  {
   "cell_type": "markdown",
   "metadata": {},
   "source": [
    "The distribution of data in the remaining august period looks relatively uniform, not revealing any preferences of the users for certain days of the week (e.g. saturday and sunday)."
   ]
  },
  {
   "cell_type": "code",
   "execution_count": 24,
   "metadata": {},
   "outputs": [
    {
     "data": {
      "text/html": [
       "<div>\n",
       "<style scoped>\n",
       "    .dataframe tbody tr th:only-of-type {\n",
       "        vertical-align: middle;\n",
       "    }\n",
       "\n",
       "    .dataframe tbody tr th {\n",
       "        vertical-align: top;\n",
       "    }\n",
       "\n",
       "    .dataframe thead tr th {\n",
       "        text-align: left;\n",
       "    }\n",
       "\n",
       "    .dataframe thead tr:last-of-type th {\n",
       "        text-align: right;\n",
       "    }\n",
       "</style>\n",
       "<table border=\"1\" class=\"dataframe\">\n",
       "  <thead>\n",
       "    <tr>\n",
       "      <th></th>\n",
       "      <th colspan=\"2\" halign=\"left\">user_id</th>\n",
       "    </tr>\n",
       "    <tr>\n",
       "      <th></th>\n",
       "      <th>count</th>\n",
       "      <th>nunique</th>\n",
       "    </tr>\n",
       "    <tr>\n",
       "      <th>exp_id</th>\n",
       "      <th></th>\n",
       "      <th></th>\n",
       "    </tr>\n",
       "  </thead>\n",
       "  <tbody>\n",
       "    <tr>\n",
       "      <th>246</th>\n",
       "      <td>79440</td>\n",
       "      <td>2484</td>\n",
       "    </tr>\n",
       "    <tr>\n",
       "      <th>247</th>\n",
       "      <td>77136</td>\n",
       "      <td>2517</td>\n",
       "    </tr>\n",
       "    <tr>\n",
       "      <th>248</th>\n",
       "      <td>84724</td>\n",
       "      <td>2537</td>\n",
       "    </tr>\n",
       "  </tbody>\n",
       "</table>\n",
       "</div>"
      ],
      "text/plain": [
       "       user_id        \n",
       "         count nunique\n",
       "exp_id                \n",
       "246      79440    2484\n",
       "247      77136    2517\n",
       "248      84724    2537"
      ]
     },
     "execution_count": 24,
     "metadata": {},
     "output_type": "execute_result"
    }
   ],
   "source": [
    "log.groupby('exp_id').agg({'user_id':['count','nunique']})"
   ]
  },
  {
   "cell_type": "markdown",
   "metadata": {},
   "source": [
    "**Intermediary Conclusion 1:** The data set is ready for analysis. We have around 80.000 events from 2.500 unique users per experimental group. Duplicates and older data have been dropped and the timestamp converted into a human readable format."
   ]
  },
  {
   "cell_type": "markdown",
   "metadata": {},
   "source": [
    "### 2. User shares in the event funnel"
   ]
  },
  {
   "cell_type": "code",
   "execution_count": 25,
   "metadata": {},
   "outputs": [
    {
     "data": {
      "text/plain": [
       "MainScreenAppear           117617\n",
       "OffersScreenAppear          46420\n",
       "CartScreenAppear            42322\n",
       "PaymentScreenSuccessful     33935\n",
       "Tutorial                     1006\n",
       "Name: event, dtype: int64"
      ]
     },
     "execution_count": 25,
     "metadata": {},
     "output_type": "execute_result"
    }
   ],
   "source": [
    "log.event.value_counts()"
   ]
  },
  {
   "cell_type": "code",
   "execution_count": 26,
   "metadata": {},
   "outputs": [
    {
     "data": {
      "text/html": [
       "<div>\n",
       "<style scoped>\n",
       "    .dataframe tbody tr th:only-of-type {\n",
       "        vertical-align: middle;\n",
       "    }\n",
       "\n",
       "    .dataframe tbody tr th {\n",
       "        vertical-align: top;\n",
       "    }\n",
       "\n",
       "    .dataframe thead th {\n",
       "        text-align: right;\n",
       "    }\n",
       "</style>\n",
       "<table border=\"1\" class=\"dataframe\">\n",
       "  <thead>\n",
       "    <tr style=\"text-align: right;\">\n",
       "      <th></th>\n",
       "      <th>user_count</th>\n",
       "      <th>user_share</th>\n",
       "    </tr>\n",
       "    <tr>\n",
       "      <th>event</th>\n",
       "      <th></th>\n",
       "      <th></th>\n",
       "    </tr>\n",
       "  </thead>\n",
       "  <tbody>\n",
       "    <tr>\n",
       "      <th>MainScreenAppear</th>\n",
       "      <td>7423</td>\n",
       "      <td>0.98</td>\n",
       "    </tr>\n",
       "    <tr>\n",
       "      <th>OffersScreenAppear</th>\n",
       "      <td>4595</td>\n",
       "      <td>0.61</td>\n",
       "    </tr>\n",
       "    <tr>\n",
       "      <th>CartScreenAppear</th>\n",
       "      <td>3735</td>\n",
       "      <td>0.50</td>\n",
       "    </tr>\n",
       "    <tr>\n",
       "      <th>PaymentScreenSuccessful</th>\n",
       "      <td>3539</td>\n",
       "      <td>0.47</td>\n",
       "    </tr>\n",
       "    <tr>\n",
       "      <th>Tutorial</th>\n",
       "      <td>841</td>\n",
       "      <td>0.11</td>\n",
       "    </tr>\n",
       "  </tbody>\n",
       "</table>\n",
       "</div>"
      ],
      "text/plain": [
       "                         user_count  user_share\n",
       "event                                          \n",
       "MainScreenAppear               7423        0.98\n",
       "OffersScreenAppear             4595        0.61\n",
       "CartScreenAppear               3735        0.50\n",
       "PaymentScreenSuccessful        3539        0.47\n",
       "Tutorial                        841        0.11"
      ]
     },
     "execution_count": 26,
     "metadata": {},
     "output_type": "execute_result"
    }
   ],
   "source": [
    "event_users = log.groupby('event').agg({'user_id':'nunique'}).sort_values('user_id',ascending=False)\n",
    "event_users.columns=['user_count']\n",
    "event_users['user_share']=round(event_users.user_count/log.user_id.nunique(),2)\n",
    "event_users"
   ]
  },
  {
   "cell_type": "markdown",
   "metadata": {},
   "source": [
    "In the order of frequency, the sales funnel of the app is designed by the screens Main -> Offers -> Cart -> Payment. There is also a tutorial which is not related to the sales funnel and will be ignored in further analysis. The (unique) user shares of the different events are 98% (main), 61% (offers), 50% (cart) and a whooping 48% (payment) that reach the checkout."
   ]
  },
  {
   "cell_type": "code",
   "execution_count": 27,
   "metadata": {},
   "outputs": [
    {
     "data": {
      "text/html": [
       "<div>\n",
       "<style scoped>\n",
       "    .dataframe tbody tr th:only-of-type {\n",
       "        vertical-align: middle;\n",
       "    }\n",
       "\n",
       "    .dataframe tbody tr th {\n",
       "        vertical-align: top;\n",
       "    }\n",
       "\n",
       "    .dataframe thead th {\n",
       "        text-align: right;\n",
       "    }\n",
       "</style>\n",
       "<table border=\"1\" class=\"dataframe\">\n",
       "  <thead>\n",
       "    <tr style=\"text-align: right;\">\n",
       "      <th>event</th>\n",
       "      <th>CartScreenAppear</th>\n",
       "      <th>MainScreenAppear</th>\n",
       "      <th>OffersScreenAppear</th>\n",
       "      <th>PaymentScreenSuccessful</th>\n",
       "    </tr>\n",
       "    <tr>\n",
       "      <th>exp_id</th>\n",
       "      <th></th>\n",
       "      <th></th>\n",
       "      <th></th>\n",
       "      <th></th>\n",
       "    </tr>\n",
       "  </thead>\n",
       "  <tbody>\n",
       "    <tr>\n",
       "      <th>246</th>\n",
       "      <td>1266</td>\n",
       "      <td>2450</td>\n",
       "      <td>1542</td>\n",
       "      <td>1200</td>\n",
       "    </tr>\n",
       "    <tr>\n",
       "      <th>247</th>\n",
       "      <td>1239</td>\n",
       "      <td>2479</td>\n",
       "      <td>1522</td>\n",
       "      <td>1158</td>\n",
       "    </tr>\n",
       "    <tr>\n",
       "      <th>248</th>\n",
       "      <td>1230</td>\n",
       "      <td>2494</td>\n",
       "      <td>1531</td>\n",
       "      <td>1181</td>\n",
       "    </tr>\n",
       "  </tbody>\n",
       "</table>\n",
       "</div>"
      ],
      "text/plain": [
       "event   CartScreenAppear  MainScreenAppear  OffersScreenAppear  \\\n",
       "exp_id                                                           \n",
       "246                 1266              2450                1542   \n",
       "247                 1239              2479                1522   \n",
       "248                 1230              2494                1531   \n",
       "\n",
       "event   PaymentScreenSuccessful  \n",
       "exp_id                           \n",
       "246                        1200  \n",
       "247                        1158  \n",
       "248                        1181  "
      ]
     },
     "execution_count": 27,
     "metadata": {},
     "output_type": "execute_result"
    }
   ],
   "source": [
    "log[log.event!='Tutorial'].pivot_table(index='exp_id',columns='event',values='user_id',aggfunc='nunique')"
   ]
  },
  {
   "cell_type": "code",
   "execution_count": 28,
   "metadata": {},
   "outputs": [],
   "source": [
    "main_six = log[(log.event=='MainScreenAppear') & (log.exp_id==246)].nunique()[1]\n",
    "main_seven = log[(log.event=='MainScreenAppear') & (log.exp_id==247)].nunique()[1]\n",
    "main_eight = log[(log.event=='MainScreenAppear') & (log.exp_id==248)].nunique()[1]\n",
    "offer_six = log[(log.event=='OffersScreenAppear') & (log.exp_id==246)].nunique()[1]\n",
    "offer_seven = log[(log.event=='OffersScreenAppear') & (log.exp_id==247)].nunique()[1]\n",
    "offer_eight = log[(log.event=='OffersScreenAppear') & (log.exp_id==248)].nunique()[1]\n",
    "cart_six = log[(log.event=='CartScreenAppear') & (log.exp_id==246)].nunique()[1]\n",
    "cart_seven = log[(log.event=='CartScreenAppear') & (log.exp_id==247)].nunique()[1]\n",
    "cart_eight = log[(log.event=='CartScreenAppear') & (log.exp_id==248)].nunique()[1]\n",
    "payment_six = log[(log.event=='PaymentScreenSuccessful') & (log.exp_id==246)].nunique()[1]\n",
    "payment_seven = log[(log.event=='PaymentScreenSuccessful') & (log.exp_id==247)].nunique()[1]\n",
    "payment_eight = log[(log.event=='PaymentScreenSuccessful') & (log.exp_id==248)].nunique()[1]"
   ]
  },
  {
   "cell_type": "code",
   "execution_count": 29,
   "metadata": {},
   "outputs": [],
   "source": [
    "d_one = {'offer_main':[offer_six/main_six,offer_seven/main_seven,offer_eight/main_eight],\n",
    "    'cart_offer':[cart_six/offer_six,cart_seven/offer_seven,cart_eight/offer_eight],\n",
    "    'payment_cart':[payment_six/cart_six,payment_seven/cart_seven,payment_eight/cart_eight]}"
   ]
  },
  {
   "cell_type": "code",
   "execution_count": 30,
   "metadata": {},
   "outputs": [],
   "source": [
    "# create dataframe with ratios of users from the three groups that pass from one stage to the next\n",
    "funnel_one = pd.DataFrame(data=d_one, index=['exp_six','exp_seven','exp_eight'])"
   ]
  },
  {
   "cell_type": "code",
   "execution_count": 31,
   "metadata": {},
   "outputs": [
    {
     "data": {
      "text/html": [
       "<div>\n",
       "<style scoped>\n",
       "    .dataframe tbody tr th:only-of-type {\n",
       "        vertical-align: middle;\n",
       "    }\n",
       "\n",
       "    .dataframe tbody tr th {\n",
       "        vertical-align: top;\n",
       "    }\n",
       "\n",
       "    .dataframe thead th {\n",
       "        text-align: right;\n",
       "    }\n",
       "</style>\n",
       "<table border=\"1\" class=\"dataframe\">\n",
       "  <thead>\n",
       "    <tr style=\"text-align: right;\">\n",
       "      <th></th>\n",
       "      <th>offer_main</th>\n",
       "      <th>cart_offer</th>\n",
       "      <th>payment_cart</th>\n",
       "    </tr>\n",
       "  </thead>\n",
       "  <tbody>\n",
       "    <tr>\n",
       "      <th>exp_six</th>\n",
       "      <td>0.629388</td>\n",
       "      <td>0.821012</td>\n",
       "      <td>0.947867</td>\n",
       "    </tr>\n",
       "    <tr>\n",
       "      <th>exp_seven</th>\n",
       "      <td>0.613957</td>\n",
       "      <td>0.814060</td>\n",
       "      <td>0.934625</td>\n",
       "    </tr>\n",
       "    <tr>\n",
       "      <th>exp_eight</th>\n",
       "      <td>0.613873</td>\n",
       "      <td>0.803396</td>\n",
       "      <td>0.960163</td>\n",
       "    </tr>\n",
       "  </tbody>\n",
       "</table>\n",
       "</div>"
      ],
      "text/plain": [
       "           offer_main  cart_offer  payment_cart\n",
       "exp_six      0.629388    0.821012      0.947867\n",
       "exp_seven    0.613957    0.814060      0.934625\n",
       "exp_eight    0.613873    0.803396      0.960163"
      ]
     },
     "execution_count": 31,
     "metadata": {},
     "output_type": "execute_result"
    }
   ],
   "source": [
    "funnel_one"
   ]
  },
  {
   "cell_type": "code",
   "execution_count": 32,
   "metadata": {},
   "outputs": [
    {
     "data": {
      "image/png": "[encoded data removed]",
      "text/plain": [
       "<Figure size 1080x504 with 2 Axes>"
      ]
     },
     "metadata": {
      "needs_background": "light"
     },
     "output_type": "display_data"
    }
   ],
   "source": [
    "plt.figure(figsize=(15,7))\n",
    "plt.rcParams['font.size']='14'\n",
    "plt.title('Heatmap sales funnel per experimental group between stages')\n",
    "sns.heatmap(funnel_one,annot=True,fmt='.1%',linewidths=1,linecolor='white',cmap='Blues');"
   ]
  },
  {
   "cell_type": "markdown",
   "metadata": {},
   "source": [
    "The heatmap shows ratios of users that pass on from one stage to the next, broken down per experimental group. Most users are lost between the main and the offer screen. That still means that very decent 3 out of 5 users reach this stage. 4 out of 5 users go from offer to cart screen and only 1 out of 20 still pulls pack between car and payment screen. Those are incredibly good numbers, while the biggest potential seems to lie between main and offer screen.\n",
    "\n",
    "Differences between the experimental groups are not huge, even though the group with altered fonts (248 or exp_eight) has slightly higher values between cart and payment screen and lower ones between offer and cart screen than the control groups."
   ]
  },
  {
   "cell_type": "code",
   "execution_count": 33,
   "metadata": {},
   "outputs": [],
   "source": [
    "d_two = {'offer_main':[offer_six/main_six,offer_seven/main_seven,offer_eight/main_eight],\n",
    "    'cart_main':[cart_six/main_six,cart_seven/main_seven,cart_eight/main_eight],\n",
    "    'payment_main':[payment_six/main_six,payment_seven/main_seven,payment_eight/main_eight]}"
   ]
  },
  {
   "cell_type": "code",
   "execution_count": 34,
   "metadata": {},
   "outputs": [],
   "source": [
    "# create dataframe with ratios of users from the three groups that pass from the first stage to the following ones\n",
    "funnel_two = pd.DataFrame(data=d_two, index=['exp_six','exp_seven','exp_eight'])"
   ]
  },
  {
   "cell_type": "code",
   "execution_count": 35,
   "metadata": {},
   "outputs": [
    {
     "data": {
      "text/html": [
       "<div>\n",
       "<style scoped>\n",
       "    .dataframe tbody tr th:only-of-type {\n",
       "        vertical-align: middle;\n",
       "    }\n",
       "\n",
       "    .dataframe tbody tr th {\n",
       "        vertical-align: top;\n",
       "    }\n",
       "\n",
       "    .dataframe thead th {\n",
       "        text-align: right;\n",
       "    }\n",
       "</style>\n",
       "<table border=\"1\" class=\"dataframe\">\n",
       "  <thead>\n",
       "    <tr style=\"text-align: right;\">\n",
       "      <th></th>\n",
       "      <th>offer_main</th>\n",
       "      <th>cart_main</th>\n",
       "      <th>payment_main</th>\n",
       "    </tr>\n",
       "  </thead>\n",
       "  <tbody>\n",
       "    <tr>\n",
       "      <th>exp_six</th>\n",
       "      <td>0.629388</td>\n",
       "      <td>0.516735</td>\n",
       "      <td>0.489796</td>\n",
       "    </tr>\n",
       "    <tr>\n",
       "      <th>exp_seven</th>\n",
       "      <td>0.613957</td>\n",
       "      <td>0.499798</td>\n",
       "      <td>0.467124</td>\n",
       "    </tr>\n",
       "    <tr>\n",
       "      <th>exp_eight</th>\n",
       "      <td>0.613873</td>\n",
       "      <td>0.493184</td>\n",
       "      <td>0.473536</td>\n",
       "    </tr>\n",
       "  </tbody>\n",
       "</table>\n",
       "</div>"
      ],
      "text/plain": [
       "           offer_main  cart_main  payment_main\n",
       "exp_six      0.629388   0.516735      0.489796\n",
       "exp_seven    0.613957   0.499798      0.467124\n",
       "exp_eight    0.613873   0.493184      0.473536"
      ]
     },
     "execution_count": 35,
     "metadata": {},
     "output_type": "execute_result"
    }
   ],
   "source": [
    "funnel_two"
   ]
  },
  {
   "cell_type": "code",
   "execution_count": 36,
   "metadata": {},
   "outputs": [
    {
     "data": {
      "image/png": "[encoded data removed]",
      "text/plain": [
       "<Figure size 1080x504 with 2 Axes>"
      ]
     },
     "metadata": {
      "needs_background": "light"
     },
     "output_type": "display_data"
    }
   ],
   "source": [
    "plt.figure(figsize=(15,7))\n",
    "plt.rcParams['font.size']='14'\n",
    "plt.title('Heatmap sales funnel per experimental group from stage one')\n",
    "sns.heatmap(funnel_two,annot=True,fmt='.1%',linewidths=1,linecolor='white',cmap='Blues');"
   ]
  },
  {
   "cell_type": "markdown",
   "metadata": {},
   "source": [
    "**Intermediary Conclusion 2:** Almost half of the users in all groups make it through the whole sales channel to reach the payment screen. It is very noteable, that the ratio of the experimental group (248 or exp_eight) of 47.4% lies between the values of the two control groups (49.0% vs. 46.7%). That basically exludes the option already that the altered font has a notable impact on customer behaviour. We'll still perform various hypothesis tests to confirm this assumption in the next part and check for statistically significant differences between the previous stages."
   ]
  },
  {
   "cell_type": "markdown",
   "metadata": {},
   "source": [
    "### 3. Experiments on sample groups"
   ]
  },
  {
   "cell_type": "code",
   "execution_count": 37,
   "metadata": {},
   "outputs": [],
   "source": [
    "# Users that reached payment stage\n",
    "users_with_payment = log[log.event=='PaymentScreenSuccessful']['user_id']"
   ]
  },
  {
   "cell_type": "code",
   "execution_count": 38,
   "metadata": {},
   "outputs": [],
   "source": [
    "exp_users = log.groupby('user_id').agg({'exp_id':'first'}).reset_index()"
   ]
  },
  {
   "cell_type": "code",
   "execution_count": 39,
   "metadata": {},
   "outputs": [],
   "source": [
    "# All users with boolean value if payment stage was reached or not\n",
    "exp_users.loc[exp_users.user_id.isin(users_with_payment), 'till_payment'] = True"
   ]
  },
  {
   "cell_type": "code",
   "execution_count": 40,
   "metadata": {},
   "outputs": [],
   "source": [
    "exp_users.till_payment.fillna(False, inplace=True)"
   ]
  },
  {
   "cell_type": "code",
   "execution_count": 41,
   "metadata": {},
   "outputs": [
    {
     "data": {
      "text/html": [
       "<div>\n",
       "<style scoped>\n",
       "    .dataframe tbody tr th:only-of-type {\n",
       "        vertical-align: middle;\n",
       "    }\n",
       "\n",
       "    .dataframe tbody tr th {\n",
       "        vertical-align: top;\n",
       "    }\n",
       "\n",
       "    .dataframe thead th {\n",
       "        text-align: right;\n",
       "    }\n",
       "</style>\n",
       "<table border=\"1\" class=\"dataframe\">\n",
       "  <thead>\n",
       "    <tr style=\"text-align: right;\">\n",
       "      <th></th>\n",
       "      <th>user_id</th>\n",
       "      <th>exp_id</th>\n",
       "      <th>till_payment</th>\n",
       "    </tr>\n",
       "  </thead>\n",
       "  <tbody>\n",
       "    <tr>\n",
       "      <th>0</th>\n",
       "      <td>6888746892508752</td>\n",
       "      <td>246</td>\n",
       "      <td>False</td>\n",
       "    </tr>\n",
       "    <tr>\n",
       "      <th>1</th>\n",
       "      <td>6909561520679493</td>\n",
       "      <td>247</td>\n",
       "      <td>True</td>\n",
       "    </tr>\n",
       "    <tr>\n",
       "      <th>2</th>\n",
       "      <td>6922444491712477</td>\n",
       "      <td>246</td>\n",
       "      <td>True</td>\n",
       "    </tr>\n",
       "  </tbody>\n",
       "</table>\n",
       "</div>"
      ],
      "text/plain": [
       "            user_id  exp_id  till_payment\n",
       "0  6888746892508752     246         False\n",
       "1  6909561520679493     247          True\n",
       "2  6922444491712477     246          True"
      ]
     },
     "execution_count": 41,
     "metadata": {},
     "output_type": "execute_result"
    }
   ],
   "source": [
    "exp_users.head(3)"
   ]
  },
  {
   "cell_type": "code",
   "execution_count": 42,
   "metadata": {},
   "outputs": [],
   "source": [
    "payment_six = exp_users[exp_users.exp_id==246]['till_payment']\n",
    "payment_seven = exp_users[exp_users.exp_id==247]['till_payment']\n",
    "payment_eight = exp_users[exp_users.exp_id==248]['till_payment']"
   ]
  },
  {
   "cell_type": "code",
   "execution_count": 43,
   "metadata": {},
   "outputs": [],
   "source": [
    "def draw_norm(payment_group):\n",
    "    n = payment_group.shape[0]\n",
    "    p = payment_group.value_counts()[1] / n\n",
    "    mu = n * p\n",
    "    var = mu * (1 - p)\n",
    "    sigma = var ** 0.5\n",
    "    x = range(0,n+1)\n",
    "    print(mu)\n",
    "    print(sigma)\n",
    "    plt.xlim(mu-sigma*5,mu+sigma*5)\n",
    "    plt.axvline(x=mu, color='black', linestyle='--')\n",
    "    plt.plot(x,norm.pdf(x,mu,sigma))"
   ]
  },
  {
   "cell_type": "code",
   "execution_count": 44,
   "metadata": {},
   "outputs": [
    {
     "name": "stdout",
     "output_type": "stream",
     "text": [
      "1200.0\n",
      "24.90561894578137\n",
      "1158.0\n",
      "25.00474329257417\n",
      "1181.0\n",
      "25.124334100095005\n"
     ]
    },
    {
     "data": {
      "image/png": "[encoded data removed]",
      "text/plain": [
       "<Figure size 432x288 with 1 Axes>"
      ]
     },
     "metadata": {
      "needs_background": "light"
     },
     "output_type": "display_data"
    }
   ],
   "source": [
    "draw_norm(payment_six)\n",
    "draw_norm(payment_seven)\n",
    "draw_norm(payment_eight)\n",
    "plt.title('normal dist of experimental groups');"
   ]
  },
  {
   "cell_type": "markdown",
   "metadata": {},
   "source": [
    "The normal distribution of the three experimental groups confirms above observation: The graph for the experimental group (green) lies between the graphs of the two control groups (orange and blue). It is clearly visible, that the graphs are overlapping in the area of 95% confidence with sigmas all around 25 (and thus two sigmas around 50, which is larger than the max distance between the means of the two control groups with 1158 and 1200 respectively).\n",
    "\n",
    "In order to draw the graphs, a boolean was created, according to which a unique user has either reached the payment screen or not. The same logic will now be applied for hypothesis testing for each stage, starting again with the payment one."
   ]
  },
  {
   "cell_type": "code",
   "execution_count": 45,
   "metadata": {},
   "outputs": [],
   "source": [
    "exp_funnel = log.pivot_table(index='exp_id',columns='event',values='user_id',aggfunc='nunique')"
   ]
  },
  {
   "cell_type": "code",
   "execution_count": 46,
   "metadata": {},
   "outputs": [],
   "source": [
    "exp_user = log.groupby('exp_id').agg({'user_id':'nunique'})"
   ]
  },
  {
   "cell_type": "code",
   "execution_count": 47,
   "metadata": {},
   "outputs": [],
   "source": [
    "exp_users = pd.merge(exp_funnel,exp_user,left_on='exp_id',right_on='exp_id')"
   ]
  },
  {
   "cell_type": "code",
   "execution_count": 48,
   "metadata": {},
   "outputs": [],
   "source": [
    "exp_users.drop(['Tutorial'],axis=1,inplace=True)\n",
    "exp_users.rename(columns={'user_id':'users_in_group'},inplace=True)\n",
    "exp_users=exp_users[['MainScreenAppear','OffersScreenAppear','CartScreenAppear','PaymentScreenSuccessful','users_in_group']]"
   ]
  },
  {
   "cell_type": "code",
   "execution_count": 49,
   "metadata": {},
   "outputs": [
    {
     "data": {
      "text/html": [
       "<div>\n",
       "<style scoped>\n",
       "    .dataframe tbody tr th:only-of-type {\n",
       "        vertical-align: middle;\n",
       "    }\n",
       "\n",
       "    .dataframe tbody tr th {\n",
       "        vertical-align: top;\n",
       "    }\n",
       "\n",
       "    .dataframe thead th {\n",
       "        text-align: right;\n",
       "    }\n",
       "</style>\n",
       "<table border=\"1\" class=\"dataframe\">\n",
       "  <thead>\n",
       "    <tr style=\"text-align: right;\">\n",
       "      <th></th>\n",
       "      <th>MainScreenAppear</th>\n",
       "      <th>OffersScreenAppear</th>\n",
       "      <th>CartScreenAppear</th>\n",
       "      <th>PaymentScreenSuccessful</th>\n",
       "      <th>users_in_group</th>\n",
       "    </tr>\n",
       "    <tr>\n",
       "      <th>exp_id</th>\n",
       "      <th></th>\n",
       "      <th></th>\n",
       "      <th></th>\n",
       "      <th></th>\n",
       "      <th></th>\n",
       "    </tr>\n",
       "  </thead>\n",
       "  <tbody>\n",
       "    <tr>\n",
       "      <th>246</th>\n",
       "      <td>2450</td>\n",
       "      <td>1542</td>\n",
       "      <td>1266</td>\n",
       "      <td>1200</td>\n",
       "      <td>2484</td>\n",
       "    </tr>\n",
       "    <tr>\n",
       "      <th>247</th>\n",
       "      <td>2479</td>\n",
       "      <td>1522</td>\n",
       "      <td>1239</td>\n",
       "      <td>1158</td>\n",
       "      <td>2517</td>\n",
       "    </tr>\n",
       "    <tr>\n",
       "      <th>248</th>\n",
       "      <td>2494</td>\n",
       "      <td>1531</td>\n",
       "      <td>1230</td>\n",
       "      <td>1181</td>\n",
       "      <td>2537</td>\n",
       "    </tr>\n",
       "  </tbody>\n",
       "</table>\n",
       "</div>"
      ],
      "text/plain": [
       "        MainScreenAppear  OffersScreenAppear  CartScreenAppear  \\\n",
       "exp_id                                                           \n",
       "246                 2450                1542              1266   \n",
       "247                 2479                1522              1239   \n",
       "248                 2494                1531              1230   \n",
       "\n",
       "        PaymentScreenSuccessful  users_in_group  \n",
       "exp_id                                           \n",
       "246                        1200            2484  \n",
       "247                        1158            2517  \n",
       "248                        1181            2537  "
      ]
     },
     "execution_count": 49,
     "metadata": {},
     "output_type": "execute_result"
    }
   ],
   "source": [
    "exp_users"
   ]
  },
  {
   "cell_type": "markdown",
   "metadata": {},
   "source": [
    "**H0**: The mean of users reaching this stage from the first test group is the same as the mean of users from the second test group <br>\n",
    "**H1**: The mean of users reaching this stage from the first test group is NOT the same as the mean of users from the second test group\n",
    "\n",
    "Significance level alpha for all tests defined as **5%**"
   ]
  },
  {
   "cell_type": "code",
   "execution_count": 50,
   "metadata": {},
   "outputs": [
    {
     "name": "stdout",
     "output_type": "stream",
     "text": [
      "The p-value for for the ztest between payment events for both control groups is 0.1030\n"
     ]
    }
   ],
   "source": [
    "true_six_seven = np.array([1200,1158])\n",
    "all_six_seven = np.array([2484,2517])\n",
    "\n",
    "zstat, pval = proportions_ztest(count=true_six_seven,nobs=all_six_seven,alternative='two-sided')\n",
    "\n",
    "print('The p-value for for the ztest between payment events for both control groups is {0:0.4f}'.format(pval))"
   ]
  },
  {
   "cell_type": "code",
   "execution_count": 51,
   "metadata": {},
   "outputs": [
    {
     "name": "stdout",
     "output_type": "stream",
     "text": [
      "The p-value for for the ztest between payment events for groups 246 and 248 is 0.2123\n"
     ]
    }
   ],
   "source": [
    "true_six_eight = np.array([1200,1181])\n",
    "all_six_eight = np.array([2484,2537])\n",
    "\n",
    "zstat, pval = proportions_ztest(count=true_six_eight,nobs=all_six_eight,alternative='two-sided')\n",
    "\n",
    "print('The p-value for for the ztest between payment events for groups 246 and 248 is {0:0.4f}'.format(pval))"
   ]
  },
  {
   "cell_type": "code",
   "execution_count": 52,
   "metadata": {},
   "outputs": [
    {
     "name": "stdout",
     "output_type": "stream",
     "text": [
      "The p-value for for the ztest between payment events for groups 247 and 248 is 0.6982\n"
     ]
    }
   ],
   "source": [
    "true_seven_eight = np.array([1158,1181])\n",
    "all_seven_eight = np.array([2517,2537])\n",
    "\n",
    "zstat, pval = proportions_ztest(count=true_seven_eight,nobs=all_seven_eight,alternative='two-sided')\n",
    "\n",
    "print('The p-value for for the ztest between payment events for groups 247 and 248 is {0:0.4f}'.format(pval))"
   ]
  },
  {
   "cell_type": "code",
   "execution_count": 53,
   "metadata": {},
   "outputs": [],
   "source": [
    "def proportions_exp(event_exp1,event_exp2,users_exp1,users_exp2):\n",
    "    event_sample = np.array([event_exp1,event_exp2])\n",
    "    exp_sample = np.array([users_exp1,users_exp2])\n",
    "\n",
    "    zstat, pval = proportions_ztest(count=event_sample,nobs=exp_sample,alternative='two-sided')\n",
    "\n",
    "    print('The p-value for the proportions ztest is {0:0.4f}'.format(pval))"
   ]
  },
  {
   "cell_type": "code",
   "execution_count": 54,
   "metadata": {},
   "outputs": [
    {
     "name": "stdout",
     "output_type": "stream",
     "text": [
      "The p-value for the proportions ztest is 0.6756\n",
      "The p-value for the proportions ztest is 0.2430\n",
      "The p-value for the proportions ztest is 0.2183\n",
      "The p-value for the proportions ztest is 0.1030\n",
      "The p-value for the proportions ztest is 0.3471\n",
      "The p-value for the proportions ztest is 0.2084\n",
      "The p-value for the proportions ztest is 0.0784\n",
      "The p-value for the proportions ztest is 0.2123\n",
      "The p-value for the proportions ztest is 0.6002\n",
      "The p-value for the proportions ztest is 0.9294\n",
      "The p-value for the proportions ztest is 0.5974\n",
      "The p-value for the proportions ztest is 0.6982\n"
     ]
    }
   ],
   "source": [
    "# all events for control groups 246 and 247\n",
    "i=0\n",
    "while i < 4:\n",
    "    proportions_exp(exp_users.iloc[0,i],exp_users.iloc[1,i],exp_users.iloc[0,4],exp_users.iloc[1,4])\n",
    "    i = i+1\n",
    "# all events for control group 246 and experimental group 248   \n",
    "i=0\n",
    "while i < 4:\n",
    "    proportions_exp(exp_users.iloc[0,i],exp_users.iloc[2,i],exp_users.iloc[0,4],exp_users.iloc[2,4])\n",
    "    i = i+1\n",
    "# all events for control group 247 and experimental group 248       \n",
    "i=0\n",
    "while i < 4:\n",
    "    proportions_exp(exp_users.iloc[1,i],exp_users.iloc[2,i],exp_users.iloc[1,4],exp_users.iloc[2,4])\n",
    "    i = i+1"
   ]
  },
  {
   "cell_type": "markdown",
   "metadata": {},
   "source": [
    "The p-value of all proportion ztests between the three groups and for each stage lies above a significance level of 5%. Thus, we cannot reject the null hypothesis that there is no statistically significant difference between their means."
   ]
  },
  {
   "cell_type": "code",
   "execution_count": 55,
   "metadata": {},
   "outputs": [],
   "source": [
    "# ratios of stage reached per total unique users in group\n",
    "list_six = [2450/2484,1542/2484,1266/2484,1200/2484]\n",
    "list_seven = [2479/2517,1522/2517,1239/2517,1158/2517]\n",
    "list_eight = [2494/2537,1531/2537,1230/2537,1181/2537]"
   ]
  },
  {
   "cell_type": "code",
   "execution_count": 56,
   "metadata": {},
   "outputs": [
    {
     "data": {
      "text/plain": [
       "Power_divergenceResult(statistic=0.0021974239299550713, pvalue=0.99997262190031)"
      ]
     },
     "execution_count": 56,
     "metadata": {},
     "output_type": "execute_result"
    }
   ],
   "source": [
    "chisquare(list_six,f_exp=list_seven)"
   ]
  },
  {
   "cell_type": "code",
   "execution_count": 57,
   "metadata": {},
   "outputs": [
    {
     "data": {
      "text/plain": [
       "Power_divergenceResult(statistic=0.002443421435044979, pvalue=0.9999679005161749)"
      ]
     },
     "execution_count": 57,
     "metadata": {},
     "output_type": "execute_result"
    }
   ],
   "source": [
    "chisquare(list_six,f_exp=list_eight)"
   ]
  },
  {
   "cell_type": "code",
   "execution_count": 58,
   "metadata": {},
   "outputs": [
    {
     "data": {
      "text/plain": [
       "Power_divergenceResult(statistic=0.0001833070061809734, pvalue=0.9999993399702355)"
      ]
     },
     "execution_count": 58,
     "metadata": {},
     "output_type": "execute_result"
    }
   ],
   "source": [
    "chisquare(list_seven,f_exp=list_eight)"
   ]
  },
  {
   "cell_type": "markdown",
   "metadata": {},
   "source": [
    "As could be expected from the previous results the chi square test for expected frequencies of experimental groups over the different stages reveals very high p-values (close to 1). This confirms the alikeness of the two control and the group with altered fonts."
   ]
  },
  {
   "cell_type": "markdown",
   "metadata": {},
   "source": [
    "**Conclusion:** The analysed data set covers a week of log files from a startup app. In order to check the effect of altered fonts, an A/A/B test was performed. Around 80.000 events from 2.500 unique users per experimental group were investigated.\n",
    "\n",
    "The first step of analysis showed high ratios of users that followed through the whole sales funnel. Every second user reached the payment confirmation screen. Between the stages the highest drop-out was noted between main and offer screen, but still three out of five customers reached this stage. Only one out of five, respectively one out of twenty customers left between offer and cart, cart and payment screen.\n",
    "\n",
    "The normal distribution of the groups for the payment stage then showed that the experimental group lies between the two control groups with all graphs overlapping. In order to draw the graphs a boolean determined for each user whether the end of the payment process was reached or not. The proportions ztest then could not reject the hypothesis that there is no significant difference between the groups, even when each stage of the sales funnel was taken into account by its own.\n",
    "\n",
    "Thus, there is no reason to not implement the altered fonts in the sales app for visual purposes, even though the A/A/B test has not delivered any reason to do so for commercial purposes."
   ]
  }
 ],
 "metadata": {
  "kernelspec": {
   "display_name": "Python 3",
   "language": "python",
   "name": "python3"
  },
  "language_info": {
   "codemirror_mode": {
    "name": "ipython",
    "version": 3
   },
   "file_extension": ".py",
   "mimetype": "text/x-python",
   "name": "python",
   "nbconvert_exporter": "python",
   "pygments_lexer": "ipython3",
   "version": "3.8.5"
  }
 },
 "nbformat": 4,
 "nbformat_minor": 4
}
